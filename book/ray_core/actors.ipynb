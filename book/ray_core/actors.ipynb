{
 "cells": [
  {
   "cell_type": "markdown",
   "metadata": {},
   "source": [
    "# Actor Pattern"
   ]
  },
  {
   "cell_type": "code",
   "execution_count": 1,
   "metadata": {},
   "outputs": [
    {
     "data": {
      "text/plain": [
       "{'CPU': 4.0,\n",
       " 'node:192.168.50.185': 1.0,\n",
       " 'GPU': 1.0,\n",
       " 'object_store_memory': 967612416.0,\n",
       " 'Custom': 2.0,\n",
       " 'memory': 1935224832.0,\n",
       " 'accelerator_type:GT': 1.0}"
      ]
     },
     "execution_count": 1,
     "metadata": {},
     "output_type": "execute_result"
    }
   ],
   "source": [
    "import ray\n",
    "import logging\n",
    "import time\n",
    "\n",
    "# Start Ray. If you're connecting to an existing cluster, you would use ray.init(address=<cluster-address>) instead.\n",
    "ray.init(\n",
    "    num_cpus=4,\n",
    "    num_gpus=1,\n",
    "    resources={'Custom': 2},\n",
    "    ignore_reinit_error=True,\n",
    "    logging_level=logging.ERROR,\n",
    ")\n",
    "ray.cluster_resources()                    # get the cluster resources"
   ]
  },
  {
   "cell_type": "markdown",
   "metadata": {},
   "source": [
    "## Example 1"
   ]
  },
  {
   "cell_type": "code",
   "execution_count": 7,
   "metadata": {},
   "outputs": [
    {
     "name": "stdout",
     "output_type": "stream",
     "text": [
      "[1, 1, 1, 1]\n"
     ]
    }
   ],
   "source": [
    "@ray.remote\n",
    "class Counter(object):\n",
    "    def __init__(self):\n",
    "        self.n = 0\n",
    "\n",
    "    def increment(self):\n",
    "        self.n += 1\n",
    "\n",
    "    def read(self):\n",
    "        return self.n\n",
    "\n",
    "\n",
    "counters = [Counter.remote() for i in range(4)]\n",
    "[c.increment.remote() for c in counters]\n",
    "futures = [c.read.remote() for c in counters]\n",
    "print(ray.get(futures))  # [1, 1, 1, 1]"
   ]
  },
  {
   "cell_type": "markdown",
   "metadata": {},
   "source": [
    "![Ray Head and Worker Nodes](../images/ray_head_worker_nodes.jpg)"
   ]
  }
 ],
 "metadata": {
  "interpreter": {
   "hash": "7b8993322de9988bf4d1f2a5a315dbb9729831e2e9420b872ad242b038970356"
  },
  "kernelspec": {
   "display_name": "Python 3.8.10 64-bit ('ray-d0a2q5pH': pipenv)",
   "language": "python",
   "name": "python3"
  },
  "language_info": {
   "codemirror_mode": {
    "name": "ipython",
    "version": 3
   },
   "file_extension": ".py",
   "mimetype": "text/x-python",
   "name": "python",
   "nbconvert_exporter": "python",
   "pygments_lexer": "ipython3",
   "version": "3.9.9"
  },
  "orig_nbformat": 4
 },
 "nbformat": 4,
 "nbformat_minor": 2
}

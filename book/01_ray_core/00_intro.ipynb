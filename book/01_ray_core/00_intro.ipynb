{
 "cells": [
  {
   "cell_type": "markdown",
   "metadata": {},
   "source": [
    "## Ray Core\n",
    "\n",
    "A [pattern language](https://patterns.eecs.berkeley.edu/) for distibuted systems as a library in Python, Java, and C++.\n",
    "\n",
    "- [task-parallel](01_tasks.ipynb) - stateless, data independence\n",
    "- [remote objects](02_remote_objects.ipynb) - key/value store\n",
    "- [actor pattern](03_actors.ipynb) - messages among classes, managing state\n",
    "- **parallel iterators** - lazy, infinite sequences\n",
    "- `multiprocessing.Pool` - drop-in replacement\n",
    "- `joblib` - e.g., _scikit-learn_ back-end\n",
    "- Dask, Modin, Mars, etc.\n",
    "\n",
    "Mix and match as needed, without tight coupling to framework"
   ]
  },
  {
   "cell_type": "markdown",
   "metadata": {},
   "source": [
    "### Background\n",
    "\n",
    "Ray makes use of:\n",
    "- [closures and decorators in Python](https://towardsdatascience.com/closures-and-decorators-in-python-2551abbc6eb6) ([PEP 318](https://www.python.org/dev/peps/pep-0318/))\n",
    "- [futures and promises in Python](http://dist-prog-book.com/chapter/2/futures.html#introduction)\n",
    "- [asyncio in Python](https://docs.python.org/3/library/asyncio-task.html)"
   ]
  }
 ],
 "metadata": {
  "interpreter": {
   "hash": "7b8993322de9988bf4d1f2a5a315dbb9729831e2e9420b872ad242b038970356"
  },
  "kernelspec": {
   "display_name": "Python 3.8.10 64-bit ('ray-d0a2q5pH': pipenv)",
   "language": "python",
   "name": "python3"
  },
  "language_info": {
   "codemirror_mode": {
    "name": "ipython",
    "version": 3
   },
   "file_extension": ".py",
   "mimetype": "text/x-python",
   "name": "python",
   "nbconvert_exporter": "python",
   "pygments_lexer": "ipython3",
   "version": "3.9.9"
  },
  "orig_nbformat": 4
 },
 "nbformat": 4,
 "nbformat_minor": 2
}

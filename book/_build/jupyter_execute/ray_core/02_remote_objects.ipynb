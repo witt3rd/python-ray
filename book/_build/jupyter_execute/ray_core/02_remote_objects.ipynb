{
 "cells": [
  {
   "cell_type": "markdown",
   "metadata": {},
   "source": [
    "# Pattern: distributed objects\n",
    "\n",
    "Remote objects:\n",
    "- distributed shared-memory object store\n",
    "- think: passing variables across the cluster\n",
    "- Ray will do object spilling to disk if needed\n",
    "\n",
    "In Ray, we can create and compute on objects. We refer to these objects as remote objects, and we use object refs to refer to them. Remote objects are stored in shared-memory object stores, and there is one object store per node in the cluster. In the cluster setting, we may not actually know which machine each object lives on.\n",
    "\n",
    "An object ref is essentially a unique ID that can be used to refer to a remote object. If you’re familiar with futures, our object refs are conceptually similar.\n",
    "\n",
    "Object refs can be created in multiple ways:\n",
    "- by remote function calls\n",
    "- by `ray.put()`"
   ]
  },
  {
   "cell_type": "code",
   "execution_count": 1,
   "metadata": {},
   "outputs": [
    {
     "data": {
      "text/plain": [
       "{'node:192.168.50.185': 1.0,\n",
       " 'memory': 1657056462.0,\n",
       " 'object_store_memory': 828528230.0,\n",
       " 'GPU': 1.0,\n",
       " 'CPU': 4.0,\n",
       " 'accelerator_type:GT': 1.0}"
      ]
     },
     "execution_count": 1,
     "metadata": {},
     "output_type": "execute_result"
    }
   ],
   "source": [
    "import ray\n",
    "import logging\n",
    "import time\n",
    "\n",
    "# Start Ray. If you're connecting to an existing cluster, you would use\n",
    "# ray.init(address=<cluster-address>) instead.\n",
    "ray.init(\n",
    "    num_cpus=4,\n",
    "    ignore_reinit_error=True,              # Don't print error messages if a Ray instance is already running. Attach to it\n",
    "    logging_level=logging.ERROR,           \n",
    ")\n",
    "ray.cluster_resources()                    # get the cluster resources"
   ]
  },
  {
   "cell_type": "markdown",
   "metadata": {},
   "source": [
    "## Example 1\n",
    "\n",
    "Simple `put()` / `get()`."
   ]
  },
  {
   "cell_type": "code",
   "execution_count": 4,
   "metadata": {},
   "outputs": [],
   "source": [
    "y = 1\n",
    "obj_ref = ray.put(y)\n",
    "assert ray.get(obj_ref) == y"
   ]
  },
  {
   "cell_type": "markdown",
   "metadata": {},
   "source": [
    "## Example 2\n",
    "\n",
    "Parallel `put()` / `get()`."
   ]
  },
  {
   "cell_type": "code",
   "execution_count": 3,
   "metadata": {},
   "outputs": [],
   "source": [
    "result = ray.get([ray.put(i) for i in range(3)])\n",
    "assert result == [0, 1, 2]"
   ]
  }
 ],
 "metadata": {
  "interpreter": {
   "hash": "7b8993322de9988bf4d1f2a5a315dbb9729831e2e9420b872ad242b038970356"
  },
  "kernelspec": {
   "display_name": "Python 3.8.10 64-bit ('ray-d0a2q5pH': pipenv)",
   "language": "python",
   "name": "python3"
  },
  "language_info": {
   "codemirror_mode": {
    "name": "ipython",
    "version": 3
   },
   "file_extension": ".py",
   "mimetype": "text/x-python",
   "name": "python",
   "nbconvert_exporter": "python",
   "pygments_lexer": "ipython3",
   "version": "3.9.9"
  }
 },
 "nbformat": 4,
 "nbformat_minor": 2
}
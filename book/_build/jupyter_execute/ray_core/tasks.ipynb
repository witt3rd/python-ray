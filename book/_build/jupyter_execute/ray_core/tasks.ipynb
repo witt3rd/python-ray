{
 "cells": [
  {
   "cell_type": "markdown",
   "metadata": {},
   "source": [
    "# Pattern: task-parallel (remote functions)\n",
    "\n",
    "- add `@ray.remote` decorator on a regular Python function\n",
    "- properties: _data independence_, _stateless_\n",
    "- patterns: [Task Parallelism](https://patterns.eecs.berkeley.edu/?page_id=208), [Task Graph](https://patterns.eecs.berkeley.edu/?page_id=609)\n",
    "- [Ray Internals: A Peek at `ray.get` - Stephanie Wang, Anyscale](https://www.youtube.com/watch?v=a1kNnQu6vGw)\n",
    "- [Ray Internals: Object Management with the Ownership Model](https://youtu.be/1oSBxTayfJc) ([slides](https://speakerdeck.com/anyscale/ray-internals-object-management-with-the-ownership-model-stephanie-wang-and-yi-cheng-anyscale))\n",
    "- reference: [Patterns for Parallel Programming](https://www.goodreads.com/book/show/85053.Patterns_for_Parallel_Programming)\n"
   ]
  },
  {
   "cell_type": "markdown",
   "metadata": {},
   "source": [
    "## Initializing Ray\n",
    "\n",
    "Before your code can take advantage of Ray, you must initialize it, specifying any resources you want to use and runtime options.\n"
   ]
  },
  {
   "cell_type": "code",
   "execution_count": 1,
   "metadata": {},
   "outputs": [
    {
     "data": {
      "text/plain": [
       "{'accelerator_type:GT': 1.0,\n",
       " 'Custom': 2.0,\n",
       " 'CPU': 4.0,\n",
       " 'object_store_memory': 630671769.0,\n",
       " 'memory': 1261343540.0,\n",
       " 'GPU': 1.0,\n",
       " 'node:192.168.50.185': 1.0}"
      ]
     },
     "execution_count": 1,
     "metadata": {},
     "output_type": "execute_result"
    }
   ],
   "source": [
    "import ray\n",
    "import logging\n",
    "import time\n",
    "\n",
    "# Start Ray. If you're connecting to an existing cluster, you would use ray.init(address=<cluster-address>) instead.\n",
    "ray.init(\n",
    "    num_cpus=4,\n",
    "    num_gpus=1,\n",
    "    resources={'Custom': 2},\n",
    "    ignore_reinit_error=True,\n",
    "    logging_level=logging.ERROR,\n",
    ")\n",
    "ray.cluster_resources()                    # get the cluster resources\n"
   ]
  },
  {
   "cell_type": "markdown",
   "metadata": {},
   "source": [
    "## Remote functions (Tasks)\n",
    "\n",
    "Simply add a decorator to a normal Python function to indicate that it can be run remotely. It must be stateless (i.e., it does not maintain state between calls). It can take arguments and return values, which are really special object refs (futures) that must be accessed with `ray.get`.\n"
   ]
  },
  {
   "cell_type": "code",
   "execution_count": 3,
   "metadata": {},
   "outputs": [
    {
     "name": "stdout",
     "output_type": "stream",
     "text": [
      "[0, 1, 4, 9]\n"
     ]
    }
   ],
   "source": [
    "# A regular Python function can be decorated with @ray.remote\n",
    "@ray.remote\n",
    "def f(x):\n",
    "    return x * x\n",
    "\n",
    "# The function can be invoked by using the `remote` method\n",
    "futures = [f.remote(i) for i in range(4)]\n",
    "\n",
    "# The values it returns can be collected using the `get` method.\n",
    "result = ray.get(futures)\n",
    "print(f\"{result}\")\n",
    "assert result == [0, 1, 4, 9]"
   ]
  },
  {
   "cell_type": "markdown",
   "metadata": {},
   "source": [
    "## Parallel execution\n",
    "\n",
    "Parallel task execution and blocking on futures (object refs).\n"
   ]
  },
  {
   "cell_type": "code",
   "execution_count": 6,
   "metadata": {},
   "outputs": [
    {
     "name": "stdout",
     "output_type": "stream",
     "text": [
      "loop_duration=0.003 seconds\n",
      "results=[0, 1, 2, 3]\n",
      "duration=1.009 seconds\n"
     ]
    }
   ],
   "source": [
    "# A function simulating a more interesting computation that takes one second.\n",
    "@ray.remote\n",
    "def slow_function(i):\n",
    "    time.sleep(1)\n",
    "    return i\n",
    "\n",
    "start_time = time.perf_counter()\n",
    "\n",
    "results = []\n",
    "for i in range(4):\n",
    "  results.append(slow_function.remote(i))\n",
    "\n",
    "loop_duration = time.perf_counter() - start_time\n",
    "print(f\"{loop_duration=:.3f} seconds\")\n",
    "\n",
    "results = ray.get(results)\n",
    "print(f\"{results=}\")\n",
    "\n",
    "assert results == [0, 1, 2, 3]\n",
    "\n",
    "duration = time.perf_counter() - start_time\n",
    "print(f\"{duration=:.3f} seconds\")\n"
   ]
  },
  {
   "cell_type": "markdown",
   "metadata": {},
   "source": [
    "```{admonition} Profiling\n",
    ":class: tip\n",
    "\n",
    "Use the UI to view the task timeline and to verify that the four tasks were executed in parallel. You can do this as follows.\n",
    "\n",
    "1. Run the following cell to generate a JSON file containing the profiling data.\n",
    "2. Download the timeline file by right clicking on `task_parallel_ex_2.json` in the **Files** tab in the navigator to the left, right clicking, and selecting  **\"Download\"**.\n",
    "3. Enter **chrome://tracing** into the Chrome web browser, click on the **\"Load\"** button, and select the downloaded JSON file.\n",
    "\n",
    "To navigate within the timeline:\n",
    "- Move around by clicking and dragging.\n",
    "- Zoom in and out by holding **alt** on Windows or **option** on Mac and scrolling.\n",
    "\n",
    "**NOTE**: The timeline visualization will only work in **Chrome**.\n",
    "```\n"
   ]
  },
  {
   "cell_type": "code",
   "execution_count": 5,
   "metadata": {},
   "outputs": [],
   "source": [
    "ray.timeline(filename=\"output/task_parallel_ex_2.json\")"
   ]
  },
  {
   "cell_type": "markdown",
   "metadata": {},
   "source": [
    "## Passing object refs to remote functions\n",
    "\n",
    "Passing object refs between tasks.\n"
   ]
  },
  {
   "cell_type": "code",
   "execution_count": 7,
   "metadata": {},
   "outputs": [
    {
     "name": "stdout",
     "output_type": "stream",
     "text": [
      "result=1\n",
      "result=2\n"
     ]
    }
   ],
   "source": [
    "@ray.remote\n",
    "def my_function():\n",
    "    return 1\n",
    "\n",
    "@ray.remote\n",
    "def function_with_an_argument(value):\n",
    "    return value + 1\n",
    "\n",
    "obj_ref1 = my_function.remote()\n",
    "result = ray.get(obj_ref1)\n",
    "print(f\"{result=}\")\n",
    "assert result == 1\n",
    "\n",
    "# You can pass an object ref as an argument to another Ray remote function.\n",
    "obj_ref2 = function_with_an_argument.remote(obj_ref1)\n",
    "result = ray.get(obj_ref2)\n",
    "print(f\"{result=}\")\n",
    "assert result == 2"
   ]
  },
  {
   "cell_type": "markdown",
   "metadata": {},
   "source": [
    "## Task dependencies\n",
    "\n",
    "Tasks can also depend on other tasks. Below, the multiply_matrices task uses the outputs of the two create_matrix tasks, so it will not begin executing until after the first two tasks have executed. The outputs of the first two tasks will automatically be passed as arguments into the third task and the futures will be replaced with their corresponding values). In this manner, tasks can be composed together with arbitrary [DAG](https://en.wikipedia.org/wiki/Directed_acyclic_graph) dependencies."
   ]
  },
  {
   "cell_type": "code",
   "execution_count": 3,
   "metadata": {},
   "outputs": [
    {
     "name": "stdout",
     "output_type": "stream",
     "text": [
      "z=array([[-88.39524635, -29.72314319,  19.87944781, ...,  39.12211094,\n",
      "         23.88868579, -23.24869311],\n",
      "       [-13.0579471 ,  51.27063016,  14.531298  , ..., -40.43644784,\n",
      "         35.077405  ,   3.03486338],\n",
      "       [-19.13068195, -20.38121156,   1.89761406, ..., -11.50138385,\n",
      "        -18.65137992, -45.11959243],\n",
      "       ...,\n",
      "       [ 17.49179363,  44.00449335,  -5.30091598, ...,  -1.59174532,\n",
      "        -23.75073943, -31.89097424],\n",
      "       [-18.42362724, -15.95431906, -43.36040454, ..., -39.2801233 ,\n",
      "         17.48374851, -10.336184  ],\n",
      "       [ -0.15621256,  -0.57233754,  14.39710089, ..., -66.61870651,\n",
      "         54.57441197,  18.60160853]])\n"
     ]
    }
   ],
   "source": [
    "import numpy as np\n",
    "\n",
    "@ray.remote\n",
    "def create_matrix(size):\n",
    "    return np.random.normal(size=size)\n",
    "\n",
    "@ray.remote\n",
    "def multiply_matrices(x, y):\n",
    "    return np.dot(x, y)\n",
    "\n",
    "x_id = create_matrix.remote([1000, 1000])\n",
    "y_id = create_matrix.remote([1000, 1000])\n",
    "z_id = multiply_matrices.remote(x_id, y_id)\n",
    "\n",
    "# Get the results.\n",
    "z = ray.get(z_id)\n",
    "print(f\"{z=}\")"
   ]
  },
  {
   "cell_type": "markdown",
   "metadata": {},
   "source": [
    "## Specifying required resources\n",
    "\n",
    "Ray also allows specifying a task’s resources requirements (e.g., CPU, GPU, and custom resources). The task will only run on a machine if there are enough resources available to execute the task."
   ]
  },
  {
   "cell_type": "code",
   "execution_count": 3,
   "metadata": {},
   "outputs": [],
   "source": [
    "# Specify required resources.\n",
    "@ray.remote(num_cpus=4, num_gpus=2)\n",
    "def my_function():\n",
    "    return 1"
   ]
  },
  {
   "cell_type": "markdown",
   "metadata": {},
   "source": [
    "## Multiple returns\n",
    "\n",
    "Python remote functions can return multiple object refs.\n"
   ]
  },
  {
   "cell_type": "code",
   "execution_count": 8,
   "metadata": {},
   "outputs": [
    {
     "name": "stdout",
     "output_type": "stream",
     "text": [
      "result=[1, 2, 3]\n"
     ]
    }
   ],
   "source": [
    "@ray.remote(num_returns=3)\n",
    "def return_multiple():\n",
    "    return 1, 2, 3\n",
    "\n",
    "a, b, c = return_multiple.remote()\n",
    "result = ray.get([a, b, c])\n",
    "print(f\"{result=}\")\n",
    "assert result == [1, 2, 3]"
   ]
  },
  {
   "cell_type": "markdown",
   "metadata": {},
   "source": [
    "## Cancelling tasks\n",
    "\n",
    "Remote functions can be cancelled by calling `ray.cancel` on the returned object ref.  Remote actor functions can be stopped by using the `ray.kill` interface."
   ]
  },
  {
   "cell_type": "code",
   "execution_count": 5,
   "metadata": {},
   "outputs": [
    {
     "name": "stdout",
     "output_type": "stream",
     "text": [
      "Object reference was cancelled.\n"
     ]
    }
   ],
   "source": [
    "@ray.remote\n",
    "def blocking_operation():\n",
    "    time.sleep(10e6)\n",
    "\n",
    "obj_ref = blocking_operation.remote()\n",
    "ray.cancel(obj_ref)\n",
    "\n",
    "from ray.exceptions import TaskCancelledError\n",
    "\n",
    "try:\n",
    "    ray.get(obj_ref)\n",
    "except TaskCancelledError:\n",
    "    print(\"Object reference was cancelled.\")"
   ]
  }
 ],
 "metadata": {
  "interpreter": {
   "hash": "7b8993322de9988bf4d1f2a5a315dbb9729831e2e9420b872ad242b038970356"
  },
  "kernelspec": {
   "display_name": "Python 3.8.10 64-bit ('ray-d0a2q5pH': pipenv)",
   "language": "python",
   "name": "python3"
  },
  "language_info": {
   "codemirror_mode": {
    "name": "ipython",
    "version": 3
   },
   "file_extension": ".py",
   "mimetype": "text/x-python",
   "name": "python",
   "nbconvert_exporter": "python",
   "pygments_lexer": "ipython3",
   "version": "3.9.9"
  }
 },
 "nbformat": 4,
 "nbformat_minor": 2
}
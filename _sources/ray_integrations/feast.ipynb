{
 "cells": [
  {
   "cell_type": "markdown",
   "metadata": {},
   "source": [
    "# Feast\n",
    "\n",
    "- [Feast](http://feast.dev) ([source](https://github.com/feast-dev/feast))\n",
    "- [Feast Workshop](https://github.com/dmatrix/feast_workshops) (incl. [Ray integration](https://github.com/dmatrix/feast_workshops/blob/master/module_3/README.md))"
   ]
  }
 ],
 "metadata": {
  "interpreter": {
   "hash": "7b8993322de9988bf4d1f2a5a315dbb9729831e2e9420b872ad242b038970356"
  },
  "kernelspec": {
   "display_name": "Python 3.8.10 64-bit ('ray-d0a2q5pH': pipenv)",
   "language": "python",
   "name": "python3"
  },
  "language_info": {
   "codemirror_mode": {
    "name": "ipython",
    "version": 3
   },
   "file_extension": ".py",
   "mimetype": "text/x-python",
   "name": "python",
   "nbconvert_exporter": "python",
   "pygments_lexer": "ipython3",
   "version": "3.9.9"
  },
  "orig_nbformat": 4
 },
 "nbformat": 4,
 "nbformat_minor": 2
}

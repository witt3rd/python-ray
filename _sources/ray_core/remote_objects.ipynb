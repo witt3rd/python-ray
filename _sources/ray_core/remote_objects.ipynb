{
 "cells": [
  {
   "cell_type": "markdown",
   "metadata": {},
   "source": [
    "# Remote Objects\n",
    "\n",
    "- distributed shared-memory object store\n",
    "- think: passing variables across the cluster\n",
    "- Ray will do object spilling to disk if needed\n",
    "\n",
    "In Ray, we can create and compute on objects. We refer to these objects as remote objects, and we use object refs to refer to them. Remote objects are stored in shared-memory object stores, and there is one object store per node in the cluster. In the cluster setting, we may not actually know which machine each object lives on.\n",
    "\n",
    "An object ref is essentially a unique ID that can be used to refer to a remote object. If you’re familiar with futures, our object refs are conceptually similar.\n",
    "\n",
    "Object refs can be created in multiple ways:\n",
    "- by remote function calls\n",
    "- by `ray.put()`"
   ]
  },
  {
   "cell_type": "code",
   "execution_count": 1,
   "metadata": {},
   "outputs": [
    {
     "data": {
      "text/plain": [
       "{'memory': 18389100135.0,\n",
       " 'CPU': 4.0,\n",
       " 'node:172.27.178.185': 1.0,\n",
       " 'GPU': 1.0,\n",
       " 'Custom': 2.0,\n",
       " 'object_store_memory': 9194550067.0}"
      ]
     },
     "execution_count": 1,
     "metadata": {},
     "output_type": "execute_result"
    }
   ],
   "source": [
    "import ray\n",
    "import logging\n",
    "import time\n",
    "\n",
    "# Start Ray. If you're connecting to an existing cluster, you would use ray.init(address=<cluster-address>) instead.\n",
    "ray.init(\n",
    "    num_cpus=4,\n",
    "    num_gpus=1,\n",
    "    resources={'Custom': 2},\n",
    "    ignore_reinit_error=True,\n",
    "    logging_level=logging.ERROR,\n",
    ")\n",
    "ray.cluster_resources()                    # get the cluster resources"
   ]
  },
  {
   "cell_type": "markdown",
   "metadata": {},
   "source": [
    "## Single object refs\n",
    "\n",
    "Simple `put()` / `get()`."
   ]
  },
  {
   "cell_type": "code",
   "execution_count": 8,
   "metadata": {},
   "outputs": [
    {
     "name": "stdout",
     "output_type": "stream",
     "text": [
      "result=1\n"
     ]
    }
   ],
   "source": [
    "y = 1\n",
    "obj_ref = ray.put(y)\n",
    "result = ray.get(obj_ref)\n",
    "print(f\"{result=}\")\n",
    "assert result == y"
   ]
  },
  {
   "cell_type": "markdown",
   "metadata": {},
   "source": [
    "## Multiple object refs\n",
    "\n",
    "Parallel `put()` / `get()`."
   ]
  },
  {
   "cell_type": "code",
   "execution_count": 9,
   "metadata": {},
   "outputs": [
    {
     "name": "stdout",
     "output_type": "stream",
     "text": [
      "result=[0, 1, 2]\n"
     ]
    }
   ],
   "source": [
    "result = ray.get([ray.put(i) for i in range(3)])\n",
    "print(f\"{result=}\")\n",
    "assert result == [0, 1, 2]"
   ]
  },
  {
   "cell_type": "markdown",
   "metadata": {},
   "source": [
    "## Timing out\n",
    "\n",
    "You can timeout to return early from a `get()` that's blocking for too long."
   ]
  },
  {
   "cell_type": "code",
   "execution_count": 3,
   "metadata": {},
   "outputs": [
    {
     "name": "stdout",
     "output_type": "stream",
     "text": [
      "`get` timed out.\n"
     ]
    }
   ],
   "source": [
    "from ray.exceptions import GetTimeoutError\n",
    "\n",
    "@ray.remote\n",
    "def long_running_function():\n",
    "    time.sleep(8)\n",
    "\n",
    "obj_ref = long_running_function.remote()\n",
    "try:\n",
    "    ray.get(obj_ref, timeout=4)\n",
    "except GetTimeoutError:\n",
    "    print(\"`get` timed out.\")"
   ]
  },
  {
   "cell_type": "markdown",
   "metadata": {},
   "source": [
    "## Waiting without blocking\n",
    "\n",
    "After launching a number of tasks, you may want to know which ones have finisihed executing."
   ]
  },
  {
   "cell_type": "code",
   "execution_count": 7,
   "metadata": {},
   "outputs": [
    {
     "name": "stdout",
     "output_type": "stream",
     "text": [
      "ready_refs=[ObjectRef(34c9c2094e42fdbfffffffffffffffffffffffff0100000001000000), ObjectRef(747754f46b61f47dffffffffffffffffffffffff0100000001000000), ObjectRef(e11fe2800445c79affffffffffffffffffffffff0100000001000000), ObjectRef(139e431dd460af76ffffffffffffffffffffffff0100000001000000), ObjectRef(bbde8638d39a1245ffffffffffffffffffffffff0100000001000000), ObjectRef(44ed5e1383be6308ffffffffffffffffffffffff0100000001000000), ObjectRef(d56d800cbde6ca14ffffffffffffffffffffffff0100000001000000), ObjectRef(38db0ab51c6b6cfbffffffffffffffffffffffff0100000001000000), ObjectRef(4e2ab276f14c37c2ffffffffffffffffffffffff0100000001000000), ObjectRef(c96088b12950798bffffffffffffffffffffffff0100000001000000)]\n",
      "remaining_refs=[]\n"
     ]
    }
   ],
   "source": [
    "@ray.remote\n",
    "def long_running_function():\n",
    "\n",
    "    duration = 1 + 10 * ray.random_uniform.remote()\n",
    "    time.sleep(duration)\n",
    "    value = ray.random_uniform.remote() \n",
    "    return value\n",
    "\n",
    "\n",
    "object_refs = [long_running_function.remote() for _ in range(10)]\n",
    "ready_refs, remaining_refs = ray.wait(\n",
    "    object_refs, num_returns=len(object_refs))\n",
    "print(f\"{ready_refs=}\")\n",
    "print(f\"{remaining_refs=}\")\n"
   ]
  },
  {
   "cell_type": "markdown",
   "metadata": {},
   "source": [
    "## References\n",
    "\n",
    "- [Ray Core Walkthrough: Objects in Ray](https://docs.ray.io/en/latest/walkthrough.html#objects-in-ray)"
   ]
  }
 ],
 "metadata": {
  "interpreter": {
   "hash": "7b8993322de9988bf4d1f2a5a315dbb9729831e2e9420b872ad242b038970356"
  },
  "kernelspec": {
   "display_name": "Python 3.8.10 64-bit ('ray-d0a2q5pH': pipenv)",
   "language": "python",
   "name": "python3"
  },
  "language_info": {
   "codemirror_mode": {
    "name": "ipython",
    "version": 3
   },
   "file_extension": ".py",
   "mimetype": "text/x-python",
   "name": "python",
   "nbconvert_exporter": "python",
   "pygments_lexer": "ipython3",
   "version": "3.9.9"
  },
  "orig_nbformat": 4
 },
 "nbformat": 4,
 "nbformat_minor": 2
}
